{
 "cells": [
  {
   "cell_type": "code",
   "execution_count": 4,
   "metadata": {
    "uuid": "f28a848b-5851-49ae-a381-a8a722a70f80"
   },
   "outputs": [],
   "source": [
    "import json\n",
    "import os\n",
    "\n",
    "import unidecode\n",
    "from collections import defaultdict"
   ]
  },
  {
   "cell_type": "markdown",
   "metadata": {
    "cellType": "markdown",
    "uuid": "38c16ea6-3c57-4dd3-ad3a-337d0751f0af"
   },
   "source": [
    "# Load Data"
   ]
  },
  {
   "cell_type": "code",
   "execution_count": 5,
   "metadata": {
    "uuid": "ce1afce0-88b8-49f2-b6d1-feff6e951680"
   },
   "outputs": [],
   "source": [
    "def load_data(dtype='train'):\n",
    "    data = []\n",
    "    with open('../../../raw_data/NYT/raw_{}.json'.format(dtype), 'r', encoding='utf-8') as f:\n",
    "        for i, line in enumerate(f):\n",
    "            sample = json.loads(line)\n",
    "            idx = '{}-{}'.format(dtype, i)\n",
    "            text = sample['sentText']\n",
    "            spos = set()\n",
    "            for item in sample['relationMentions']:\n",
    "                spo = (unidecode.unidecode(item['em1Text']), item['label'].split('/')[-1], unidecode.unidecode(item['em2Text']))\n",
    "                spos.add(spo)\n",
    "            sample = {'id': idx, 'text': text, 'spos': list(spos)}\n",
    "            data.append(sample)\n",
    "    return data\n",
    "def load_labels(dtype='train'):\n",
    "    predicates = set()\n",
    "    with open('../../raw_data/NYT/raw_{}.json'.format(dtype), 'r', encoding='utf-8') as f:\n",
    "        for i, line in enumerate(f):\n",
    "            sample = json.loads(line)\n",
    "            for item in sample['relationMentions']:\n",
    "                predicates.add(item['label'].split('/')[-1])\n",
    "    predicates = sorted(list(predicates))\n",
    "    return predicates\n",
    "train_data = load_data('train')\n",
    "valid_data = load_data('valid')\n",
    "test_data = load_data('test')\n",
    "predicates = load_labels()"
   ]
  },
  {
   "cell_type": "markdown",
   "metadata": {
    "cellType": "markdown",
    "uuid": "9c5c98d3-7759-472b-8245-f99fcf0a8f9a"
   },
   "source": [
    "# Statistics"
   ]
  },
  {
   "cell_type": "code",
   "execution_count": 24,
   "metadata": {
    "uuid": "136643ef-07f8-4996-b979-71f83c02aa5b"
   },
   "outputs": [],
   "source": [
    "def save_data(dtype, data):\n",
    "    with open('{}.json'.format(dtype), 'w', encoding='utf-8') as f:\n",
    "        for sample in data:\n",
    "            f.write(json.dumps(sample)+'\\n')\n",
    "save_data('train', train_data)\n",
    "save_data('valid', valid_data)\n",
    "save_data('test', test_data)"
   ]
  },
  {
   "cell_type": "code",
   "execution_count": 25,
   "metadata": {
    "uuid": "c7eec2ec-a971-47e4-90e2-15fc0cf03a01"
   },
   "outputs": [],
   "source": [
    "def save_predicates(predicates):\n",
    "    with open('predicates.txt', 'w', encoding='utf-8') as f:\n",
    "        for p in predicates:\n",
    "            f.write(p+'\\n')\n",
    "save_predicates(predicates)"
   ]
  },
  {
   "cell_type": "code",
   "execution_count": null,
   "metadata": {
    "uuid": "890e8524-c4dd-41a5-abfe-0bb38ca1c3d4"
   },
   "outputs": [],
   "source": []
  }
 ],
 "metadata": {
  "kernelspec": {
   "display_name": "Python 3",
   "language": "python",
   "name": "python3"
  },
  "language_info": {
   "codemirror_mode": {
    "name": "ipython",
    "version": 3
   },
   "file_extension": ".py",
   "mimetype": "text/x-python",
   "name": "python",
   "nbconvert_exporter": "python",
   "pygments_lexer": "ipython3",
   "version": "3.6.9"
  }
 },
 "nbformat": 4,
 "nbformat_minor": 4
}
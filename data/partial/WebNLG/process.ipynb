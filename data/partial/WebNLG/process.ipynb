{
 "cells": [
  {
   "cell_type": "code",
   "execution_count": 1,
   "metadata": {
    "uuid": "d0434a9b-8232-4a9a-92f1-b7682c06db03"
   },
   "outputs": [],
   "source": [
    "import json\n",
    "import os\n",
    "\n",
    "from tqdm import tqdm\n",
    "from collections import defaultdict"
   ]
  },
  {
   "cell_type": "markdown",
   "metadata": {
    "cellType": "markdown",
    "uuid": "587aec06-20d3-4dad-99e4-27279ec2b017"
   },
   "source": [
    "# Load Data"
   ]
  },
  {
   "cell_type": "code",
   "execution_count": 2,
   "metadata": {
    "uuid": "8c51539f-9058-4956-949e-6dc097059a2d"
   },
   "outputs": [],
   "source": [
    "def load_data(dtype='train'):\n",
    "    data = []\n",
    "    with open('../../casrel_data/WebNLG/raw_WebNLG/new_{}.json'.format(dtype), 'r', encoding='utf-8') as f:\n",
    "        for i, line in enumerate(f):\n",
    "            sample = json.loads(line)\n",
    "            idx = '{}-{}'.format(dtype, i)\n",
    "            text = sample['sentText']\n",
    "            spos = set()\n",
    "            for item in sample['relationMentions']:\n",
    "                spo = (item['em1Text'], item['label'].split('/')[-1], item['em2Text'])\n",
    "                spos.add(spo)\n",
    "            sample = {'id': idx, 'text': text, 'spos': list(spos)}\n",
    "            data.append(sample)\n",
    "    return data\n",
    "def load_labels(dtype='train'):\n",
    "    predicates = set()\n",
    "    with open('../../casrel_data/WebNLG/raw_WebNLG/new_{}.json'.format(dtype), 'r', encoding='utf-8') as f:\n",
    "        for i, line in enumerate(f):\n",
    "            sample = json.loads(line)\n",
    "            for item in sample['relationMentions']:\n",
    "                predicates.add(item['label'].split('/')[-1])\n",
    "    predicates = sorted(list(predicates))\n",
    "    return predicates\n",
    "train_data = load_data('train')\n",
    "valid_data = load_data('valid')\n",
    "test_data = load_data('test')\n",
    "test_normal_data = load_data('test_normal')\n",
    "test_seo_data = load_data('test_seo')\n",
    "test_epo_data = load_data('test_epo')\n",
    "predicates = load_labels()"
   ]
  },
  {
   "cell_type": "markdown",
   "metadata": {
    "cellType": "markdown",
    "uuid": "462eaebb-5aa7-4247-a741-efb290528f79"
   },
   "source": [
    "# Save"
   ]
  },
  {
   "cell_type": "code",
   "execution_count": 3,
   "metadata": {
    "uuid": "2f7a81d0-ef59-4608-8093-5d44985283f2"
   },
   "outputs": [],
   "source": [
    "def save_data(dtype, data):\n",
    "    with open('{}.json'.format(dtype), 'w', encoding='utf-8') as f:\n",
    "        for sample in data:\n",
    "            f.write(json.dumps(sample)+'\\n')\n",
    "save_data('train', train_data)\n",
    "save_data('valid', valid_data)\n",
    "save_data('test', test_data)\n",
    "save_data('test_normal', test_normal_data)\n",
    "save_data('test_seo', test_seo_data)\n",
    "save_data('test_epo', test_epo_data)"
   ]
  },
  {
   "cell_type": "code",
   "execution_count": 4,
   "metadata": {
    "uuid": "61f7f76f-01a3-4725-b74a-941d350bcdb9"
   },
   "outputs": [],
   "source": [
    "def save_predicates(predicates):\n",
    "    with open('predicates.txt', 'w', encoding='utf-8') as f:\n",
    "        for p in predicates:\n",
    "            f.write(p+'\\n')\n",
    "save_predicates(predicates)"
   ]
  },
  {
   "cell_type": "code",
   "execution_count": null,
   "metadata": {},
   "outputs": [],
   "source": []
  }
 ],
 "metadata": {
  "kernelspec": {
   "display_name": "Python 3",
   "language": "python",
   "name": "python3"
  },
  "language_info": {
   "codemirror_mode": {
    "name": "ipython",
    "version": 3
   },
   "file_extension": ".py",
   "mimetype": "text/x-python",
   "name": "python",
   "nbconvert_exporter": "python",
   "pygments_lexer": "ipython3",
   "version": "3.6.9"
  }
 },
 "nbformat": 4,
 "nbformat_minor": 4
}

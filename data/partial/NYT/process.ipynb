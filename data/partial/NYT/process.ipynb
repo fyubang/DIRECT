{
 "cells": [
  {
   "cell_type": "code",
   "execution_count": 1,
   "metadata": {
    "uuid": "e015af9f-8260-4276-a466-f79f0d668b9a"
   },
   "outputs": [],
   "source": [
    "import json\n",
    "import os\n",
    "\n",
    "from tqdm import tqdm\n",
    "from collections import defaultdict"
   ]
  },
  {
   "cell_type": "markdown",
   "metadata": {
    "cellType": "markdown",
    "uuid": "ddef582d-9f1e-4f08-9277-784ac412e23b"
   },
   "source": [
    "# Load Data"
   ]
  },
  {
   "cell_type": "code",
   "execution_count": 4,
   "metadata": {
    "uuid": "20f332f1-ea1d-490a-a33c-02bc2e32127a"
   },
   "outputs": [],
   "source": [
    "casrel_data_file_path = 'casrel_data/NYT/raw_NYT/new_{}.json'\n",
    "\n",
    "def load_data(dtype='train'):\n",
    "    data = []\n",
    "    with open(casrel_data_file_path.format(dtype), 'r', encoding='utf-8') as f:\n",
    "        for i, line in enumerate(f):\n",
    "            sample = json.loads(line)\n",
    "            idx = '{}-{}'.format(dtype, i)\n",
    "            text = sample['sentText']\n",
    "            spos = set()\n",
    "            for item in sample['relationMentions']:\n",
    "                spo = (item['em1Text'], item['label'].split('/')[-1], item['em2Text'])\n",
    "                spos.add(spo)\n",
    "            sample = {'id': idx, 'text': text, 'spos': list(spos)}\n",
    "            data.append(sample)\n",
    "    return data\n",
    "def load_labels(dtype='train'):\n",
    "    predicates = set()\n",
    "    with open(casrel_data_file_path.format(dtype), 'r', encoding='utf-8') as f:\n",
    "        for i, line in enumerate(f):\n",
    "            sample = json.loads(line)\n",
    "            for item in sample['relationMentions']:\n",
    "                predicates.add(item['label'].split('/')[-1])\n",
    "    predicates = sorted(list(predicates))\n",
    "    return predicates\n",
    "train_data = load_data('train')\n",
    "valid_data = load_data('valid')\n",
    "test_data = load_data('test')\n",
    "test_normal_data = load_data('test_normal')\n",
    "test_seo_data = load_data('test_seo')\n",
    "test_epo_data = load_data('test_epo')\n",
    "predicates = load_labels()"
   ]
  },
  {
   "cell_type": "markdown",
   "metadata": {
    "cellType": "markdown",
    "uuid": "6a5309f2-0837-483d-8258-0d68f2f7a431"
   },
   "source": [
    "# Save"
   ]
  },
  {
   "cell_type": "code",
   "execution_count": 5,
   "metadata": {
    "uuid": "746a32c5-d367-4643-842d-24741c610df3"
   },
   "outputs": [],
   "source": [
    "def save_data(dtype, data):\n",
    "    with open('{}.json'.format(dtype), 'w', encoding='utf-8') as f:\n",
    "        for sample in data:\n",
    "            f.write(json.dumps(sample)+'\\n')\n",
    "save_data('train', train_data)\n",
    "save_data('valid', valid_data)\n",
    "save_data('test', test_data)\n",
    "save_data('test_normal', test_normal_data)\n",
    "save_data('test_seo', test_seo_data)\n",
    "save_data('test_epo', test_epo_data)"
   ]
  },
  {
   "cell_type": "code",
   "execution_count": 6,
   "metadata": {
    "uuid": "a2c02bf3-4357-4c68-bbac-2aa1deda5237"
   },
   "outputs": [],
   "source": [
    "def save_predicates(predicates):\n",
    "    with open('predicates.txt', 'w', encoding='utf-8') as f:\n",
    "        for p in predicates:\n",
    "            f.write(p+'\\n')\n",
    "save_predicates(predicates)"
   ]
  },
  {
   "cell_type": "code",
   "execution_count": null,
   "metadata": {},
   "outputs": [],
   "source": []
  }
 ],
 "metadata": {
  "kernelspec": {
   "display_name": "Python 3",
   "language": "python",
   "name": "python3"
  },
  "language_info": {
   "codemirror_mode": {
    "name": "ipython",
    "version": 3
   },
   "file_extension": ".py",
   "mimetype": "text/x-python",
   "name": "python",
   "nbconvert_exporter": "python",
   "pygments_lexer": "ipython3",
   "version": "3.6.9"
  }
 },
 "nbformat": 4,
 "nbformat_minor": 4
}
